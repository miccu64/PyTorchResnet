{
 "cells": [
  {
   "cell_type": "code",
   "execution_count": 1,
   "metadata": {},
   "outputs": [],
   "source": [
    "from torchvision.datasets import CIFAR10\n",
    "import torch\n",
    "import torchvision.transforms as transforms\n",
    "from torch.utils.data import Dataset, DataLoader"
   ]
  },
  {
   "cell_type": "code",
   "execution_count": 2,
   "metadata": {},
   "outputs": [
    {
     "name": "stdout",
     "output_type": "stream",
     "text": [
      "Files already downloaded and verified\n"
     ]
    }
   ],
   "source": [
    "class CIFAR10Dataset(Dataset):\n",
    "    def __init__(self, is_train: bool):\n",
    "        normalization = transforms.Compose(\n",
    "            [\n",
    "                transforms.ToTensor(),\n",
    "                transforms.Normalize((0.5, 0.5, 0.5), (0.5, 0.5, 0.5)),\n",
    "            ]\n",
    "        )\n",
    "        dataset = CIFAR10(root=\"data\", download=True, train=is_train, transform=normalization)\n",
    "        dataset.data = dataset.data[:100]\n",
    "        dataset.targets = dataset.targets[:100]\n",
    "\n",
    "        dataloader = DataLoader(dataset)\n",
    "\n",
    "        self.data = torch.cat([X for X, _ in dataloader])\n",
    "        self.labels = torch.eye(10)[torch.cat([y for _, y in dataloader])]\n",
    "\n",
    "    def __len__(self):\n",
    "        return len(self.data)\n",
    "\n",
    "    def __getitem__(self, index):\n",
    "        x = self.data[index]\n",
    "        y = self.labels[index]\n",
    "        return x, y\n",
    "\n",
    "\n",
    "train_dataset = CIFAR10Dataset(True)"
   ]
  },
  {
   "cell_type": "code",
   "execution_count": 15,
   "metadata": {},
   "outputs": [],
   "source": [
    "from typing import NamedTuple\n",
    "\n",
    "\n",
    "class ResNetConvSizes(NamedTuple):\n",
    "    conv2_conv5: int\n",
    "    conv3: int\n",
    "    conv4: int\n",
    "    # possible values: 2, 3\n",
    "    block_size: int\n",
    "\n",
    "    def layers_count(self) -> int:\n",
    "        return ((self.conv2_conv5 * 2 + self.conv3 + self.conv4) * self.block_size) + 2\n",
    "\n",
    "    def check_conv_sizes(self, resnet_layers: int) -> bool:\n",
    "        size = self.layers_count()\n",
    "        assert size == resnet_layers, f\"Wrong ResNetConvSizes. Current: {size}, expected: {resnet_layers}\"\n",
    "\n",
    "    def find_resnet_conv_sizes(resnet_layers: int) -> list:\n",
    "        assert resnet_layers >= 18, \"Minimum is 18 layers\"\n",
    "\n",
    "        # need to subtract 2 const layers (1 from conv1 and 1 from conv2)\n",
    "        sub_resnet_layers = resnet_layers - 2\n",
    "        conv_sizes = []\n",
    "\n",
    "        for base in [2, 3]:\n",
    "            if sub_resnet_layers % base != 0:\n",
    "                continue\n",
    "\n",
    "            conv2_conv5_max = sub_resnet_layers // (4 * base)\n",
    "            for conv2_conv5 in range(2, conv2_conv5_max + 1):\n",
    "                remain_layers = sub_resnet_layers - conv2_conv5 * 2 * base\n",
    "                # conv3 must be >= conv2_conv5 and conv4 >= conv3\n",
    "                # conv3 must be power of 2\n",
    "                conv3 = conv2_conv5\n",
    "                while ResNetConvSizes.__not_power_of_2(conv3):\n",
    "                    conv3 += 1\n",
    "\n",
    "                while conv3 * base <= remain_layers // 2:\n",
    "                    assert remain_layers % base == 0, f\"Conv3 not dividable by {base}\"\n",
    "\n",
    "                    conv4 = remain_layers // base - conv3\n",
    "                    conv_size = ResNetConvSizes(conv2_conv5, conv3, conv4, base)\n",
    "                    conv_size.check_conv_sizes(resnet_layers)\n",
    "                    conv_sizes.append(conv_size)\n",
    "\n",
    "                    conv3 *= base\n",
    "\n",
    "        return conv_sizes\n",
    "\n",
    "    def __not_power_of_2(n: int) -> bool:\n",
    "        return not ((n & (n - 1) == 0) and n != 0)"
   ]
  },
  {
   "cell_type": "code",
   "execution_count": 16,
   "metadata": {},
   "outputs": [],
   "source": [
    "from torch.nn import Module, Sequential, Conv2d, ReLU, ModuleList\n",
    "\n",
    "\n",
    "class ResNetModule(Module):\n",
    "    def __init__(self, conv_sizes: ResNetConvSizes):\n",
    "        super(ResNetModule, self).__init__()\n",
    "        self.conv_sizes = conv_sizes\n",
    "        self.conv1 = ModuleList(\n",
    "            Sequential(\n",
    "            )\n",
    "        )\n",
    "\n",
    "    def forward(self, x):\n",
    "        pass\n",
    "\n",
    "    # option A\n",
    "    def __create_basic_block(in_channels: int) -> Sequential:\n",
    "        return Sequential(\n",
    "            Conv2d(in_channels, in_channels, kernel_size=3), ReLU(), Conv2d(in_channels, in_channels, kernel_size=3)\n",
    "        )\n",
    "\n",
    "    # option B\n",
    "    def __create_bottleneck_block(in_channels: int) -> Sequential:\n",
    "        internal_channels = in_channels // 4\n",
    "        return Sequential(\n",
    "            Conv2d(in_channels, internal_channels, kernel_size=1),\n",
    "            ReLU(),\n",
    "            Conv2d(internal_channels, internal_channels, kernel_size=3),\n",
    "            ReLU(),\n",
    "            Conv2d(internal_channels, in_channels, kernel_size=1),\n",
    "        )"
   ]
  },
  {
   "cell_type": "code",
   "execution_count": 17,
   "metadata": {},
   "outputs": [
    {
     "name": "stdout",
     "output_type": "stream",
     "text": [
      "[ResNetConvSizes(conv2_conv5=2, conv3=2, conv4=8, block_size=2), ResNetConvSizes(conv2_conv5=2, conv3=4, conv4=6, block_size=2), ResNetConvSizes(conv2_conv5=3, conv3=4, conv4=4, block_size=2)]\n"
     ]
    }
   ],
   "source": [
    "a = ResNetConvSizes.find_resnet_conv_sizes(30)\n",
    "print(a)"
   ]
  }
 ],
 "metadata": {
  "kernelspec": {
   "display_name": "Python 3",
   "language": "python",
   "name": "python3"
  },
  "language_info": {
   "codemirror_mode": {
    "name": "ipython",
    "version": 3
   },
   "file_extension": ".py",
   "mimetype": "text/x-python",
   "name": "python",
   "nbconvert_exporter": "python",
   "pygments_lexer": "ipython3",
   "version": "3.11.6"
  }
 },
 "nbformat": 4,
 "nbformat_minor": 2
}
