{
 "cells": [
  {
   "cell_type": "code",
   "execution_count": 1,
   "metadata": {},
   "outputs": [],
   "source": [
    "from torchvision.datasets import CIFAR10\n",
    "import torch\n",
    "import torchvision.transforms as transforms\n",
    "from torch.utils.data import Dataset, DataLoader"
   ]
  },
  {
   "cell_type": "code",
   "execution_count": 2,
   "metadata": {},
   "outputs": [
    {
     "name": "stdout",
     "output_type": "stream",
     "text": [
      "Files already downloaded and verified\n"
     ]
    }
   ],
   "source": [
    "class CIFAR10Dataset(Dataset):\n",
    "    def __init__(self, is_train: bool):\n",
    "        normalization = transforms.Compose(\n",
    "            [\n",
    "                transforms.ToTensor(),\n",
    "                transforms.Normalize((0.5, 0.5, 0.5), (0.5, 0.5, 0.5)),\n",
    "            ]\n",
    "        )\n",
    "        dataset = CIFAR10(root=\"data\", download=True, train=is_train, transform=normalization)\n",
    "        dataset.data = dataset.data[:100]\n",
    "        dataset.targets = dataset.targets[:100]\n",
    "\n",
    "        dataloader = DataLoader(dataset)\n",
    "\n",
    "        self.data = torch.cat([X for X, _ in dataloader])\n",
    "        self.labels = torch.eye(10)[torch.cat([y for _, y in dataloader])]\n",
    "\n",
    "    def __len__(self):\n",
    "        return len(self.data)\n",
    "\n",
    "    def __getitem__(self, index):\n",
    "        x = self.data[index]\n",
    "        y = self.labels[index]\n",
    "        return x, y\n",
    "\n",
    "\n",
    "train_dataset = CIFAR10Dataset(True)"
   ]
  },
  {
   "cell_type": "code",
   "execution_count": 15,
   "metadata": {},
   "outputs": [],
   "source": [
    "class ResNetConvSizes:\n",
    "    def __init__(self, resnet_layers: int, block_size: int, conv2: int, conv3: int, conv4: int, conv5: int = 0) -> None:\n",
    "        if block_size != 2 and block_size != 3:\n",
    "            raise ValueError(f\"Possible block sizes are [2, 3]. Provided: {block_size}\")\n",
    "        if resnet_layers < 5:\n",
    "            raise ValueError(f\"Possible lowest layers number: 5. Provided: {resnet_layers}\")\n",
    "        if any(value < 1 for value in (conv2, conv3, conv4)) or conv5 < 0:\n",
    "            raise ValueError(\"Wrong layers count\")\n",
    "\n",
    "        self.block_size = block_size\n",
    "        self.conv2 = conv2\n",
    "        self.conv3 = conv3\n",
    "        self.conv4 = conv4\n",
    "        self.conv5 = conv5\n",
    "\n",
    "        size = self.layers_count()\n",
    "        if size != resnet_layers:\n",
    "            raise ValueError(f\"Wrong summary ResNet size. Current: {size}, expected: {resnet_layers}\")\n",
    "\n",
    "    def layers_count(self) -> int:\n",
    "        return ((self.conv2 + self.conv3 + self.conv4 + self.conv5) * self.block_size) + 2"
   ]
  },
  {
   "cell_type": "code",
   "execution_count": 1,
   "metadata": {},
   "outputs": [
    {
     "ename": "IndentationError",
     "evalue": "expected an indented block after 'if' statement on line 37 (891259096.py, line 40)",
     "output_type": "error",
     "traceback": [
      "\u001b[1;36m  Cell \u001b[1;32mIn[1], line 40\u001b[1;36m\u001b[0m\n\u001b[1;33m    create_block = self.__create_basic_block if block_size == 2 else self.__create_bottleneck_block\u001b[0m\n\u001b[1;37m    ^\u001b[0m\n\u001b[1;31mIndentationError\u001b[0m\u001b[1;31m:\u001b[0m expected an indented block after 'if' statement on line 37\n"
     ]
    }
   ],
   "source": [
    "from torch.nn import (\n",
    "    Module,\n",
    "    Sequential,\n",
    "    Conv2d,\n",
    "    ReLU,\n",
    "    ModuleList,\n",
    "    BatchNorm2d,\n",
    "    ReLU,\n",
    "    Linear,\n",
    "    Flatten,\n",
    "    AdaptiveAvgPool2d,\n",
    "    Softmax,\n",
    ")\n",
    "\n",
    "\n",
    "class ResNetModule(Module):\n",
    "    def __init__(self, conv_sizes: ResNetConvSizes):\n",
    "        super(ResNetModule, self).__init__()\n",
    "\n",
    "        self.conv_sizes = conv_sizes\n",
    "        self.latest_channels = 16\n",
    "\n",
    "        self.conv1 = Sequential(\n",
    "            # bias is redundant when using batch normalization\n",
    "            Conv2d(3, self.latest_channels, kernel_size=3, stride=1, padding=1, bias=False),\n",
    "            BatchNorm2d(self.latest_channels),\n",
    "            ReLU()\n",
    "            # no pooling there\n",
    "        )\n",
    "\n",
    "        self.conv2 = self.__create_blocks(conv_sizes.conv2)\n",
    "        self.conv3 = self.__create_blocks(conv_sizes.conv3)\n",
    "        self.conv4 = self.__create_blocks(conv_sizes.conv4)\n",
    "        self.conv5 = self.__create_blocks(conv_sizes.conv5)\n",
    "        self.output = Sequential(AdaptiveAvgPool2d((1, 1)), Flatten(), Linear(self.latest_channels, 10), Softmax(dim=1))\n",
    "\n",
    "    def forward(self, x):\n",
    "        pass\n",
    "\n",
    "    def __create_blocks(self, conv_size: int) -> ModuleList:\n",
    "        modules = ModuleList()\n",
    "        if conv_size == 0:\n",
    "            return modules\n",
    "\n",
    "        create_block = self.__create_basic_block if self.conv_sizes.block_size == 2 else self.__create_bottleneck_block\n",
    "\n",
    "        modules.append(create_block(self.latest_channels, True))\n",
    "        self.latest_channels *= 2\n",
    "\n",
    "        for _ in range(1, conv_size):\n",
    "            modules.append(create_block(self.latest_channels))\n",
    "\n",
    "        return modules\n",
    "\n",
    "    # option A\n",
    "    def __create_basic_block(self, in_channels: int, downsample_dimensions: bool = False) -> Sequential:\n",
    "        if not self.__is_power_of_2(in_channels):\n",
    "            raise ValueError(\"Input channels number is not power of 2\")\n",
    "\n",
    "        first_stride = 1\n",
    "        out_channels = in_channels\n",
    "        if downsample_dimensions:\n",
    "            first_stride = 2\n",
    "            out_channels = out_channels * 2\n",
    "\n",
    "        return Sequential(\n",
    "            Conv2d(in_channels, out_channels, kernel_size=3, padding=1, stride=first_stride),\n",
    "            BatchNorm2d(out_channels),\n",
    "            ReLU(),\n",
    "            Conv2d(out_channels, out_channels, kernel_size=3, padding=1, stride=1),\n",
    "            BatchNorm2d(out_channels),\n",
    "        )\n",
    "\n",
    "    # option B\n",
    "    def __create_bottleneck_block(self, in_channels: int, downsample_dimensions: bool = False) -> Sequential:\n",
    "        first_stride = 1\n",
    "        internal_channels = in_channels // 4\n",
    "        out_channels = in_channels\n",
    "        if downsample_dimensions:\n",
    "            first_stride = 2\n",
    "            internal_channels = internal_channels * 2\n",
    "            out_channels = out_channels * 2\n",
    "\n",
    "        if not all(self.__is_power_of_2(num) for num in [in_channels, internal_channels, out_channels]):\n",
    "            raise ValueError(\"Channels number is not power of 2\")\n",
    "\n",
    "        return Sequential(\n",
    "            Conv2d(in_channels, internal_channels, padding=1, kernel_size=1, stride=first_stride),\n",
    "            BatchNorm2d(internal_channels),\n",
    "            ReLU(),\n",
    "            Conv2d(internal_channels, internal_channels, padding=1, kernel_size=3, stride=1),\n",
    "            BatchNorm2d(internal_channels),\n",
    "            ReLU(),\n",
    "            Conv2d(internal_channels, out_channels, padding=1, kernel_size=1, stride=1),\n",
    "            BatchNorm2d(out_channels),\n",
    "        )\n",
    "\n",
    "    def __is_power_of_2(self, n: int) -> bool:\n",
    "        return (n & (n - 1) == 0) and n != 0\n",
    "    "
   ]
  },
  {
   "cell_type": "code",
   "execution_count": 17,
   "metadata": {},
   "outputs": [
    {
     "name": "stdout",
     "output_type": "stream",
     "text": [
      "[ResNetConvSizes(conv2_conv5=2, conv3=2, conv4=8, block_size=2), ResNetConvSizes(conv2_conv5=2, conv3=4, conv4=6, block_size=2), ResNetConvSizes(conv2_conv5=3, conv3=4, conv4=4, block_size=2)]\n"
     ]
    }
   ],
   "source": []
  }
 ],
 "metadata": {
  "kernelspec": {
   "display_name": "Python 3",
   "language": "python",
   "name": "python3"
  },
  "language_info": {
   "codemirror_mode": {
    "name": "ipython",
    "version": 3
   },
   "file_extension": ".py",
   "mimetype": "text/x-python",
   "name": "python",
   "nbconvert_exporter": "python",
   "pygments_lexer": "ipython3",
   "version": "3.11.6"
  }
 },
 "nbformat": 4,
 "nbformat_minor": 2
}
